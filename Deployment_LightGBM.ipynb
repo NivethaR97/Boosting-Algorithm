{
 "cells": [
  {
   "cell_type": "code",
   "execution_count": 1,
   "id": "b93b3d62-0ebf-4a02-b38a-c4669d750b5e",
   "metadata": {},
   "outputs": [],
   "source": [
    "import pickle"
   ]
  },
  {
   "cell_type": "code",
   "execution_count": 3,
   "id": "282c53f5-ce89-4146-b5c4-31bed72cf73f",
   "metadata": {},
   "outputs": [],
   "source": [
    "loaded_model=pickle.load(open(\"finalized_model_LightGBM.sav\",'rb'))\n",
    "result=loaded_model.predict([[72,34,2,1,0]])"
   ]
  },
  {
   "cell_type": "code",
   "execution_count": 5,
   "id": "e28c7ed1-29a9-4ad3-86c1-b1f6987b8982",
   "metadata": {},
   "outputs": [
    {
     "data": {
      "text/plain": [
       "array([19725.47901373])"
      ]
     },
     "execution_count": 5,
     "metadata": {},
     "output_type": "execute_result"
    }
   ],
   "source": [
    "result"
   ]
  },
  {
   "cell_type": "code",
   "execution_count": null,
   "id": "623222fa-f572-4a31-a944-cdde6052ad00",
   "metadata": {},
   "outputs": [],
   "source": []
  }
 ],
 "metadata": {
  "kernelspec": {
   "display_name": "Python [conda env:base] *",
   "language": "python",
   "name": "conda-base-py"
  },
  "language_info": {
   "codemirror_mode": {
    "name": "ipython",
    "version": 3
   },
   "file_extension": ".py",
   "mimetype": "text/x-python",
   "name": "python",
   "nbconvert_exporter": "python",
   "pygments_lexer": "ipython3",
   "version": "3.12.9"
  }
 },
 "nbformat": 4,
 "nbformat_minor": 5
}
